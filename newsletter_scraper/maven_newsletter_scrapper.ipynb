{
 "cells": [
  {
   "cell_type": "code",
   "execution_count": 8,
   "source": [
    "import pandas as pd\n",
    "import numpy as np\n",
    "import requests\n",
    "import json\n",
    "from bs4 import BeautifulSoup\n",
    "from datetime import datetime\n",
    "import time\n",
    "import re\n",
    "import warnings\n",
    "warnings.filterwarnings('ignore')\n",
    "from selenium import webdriver\n",
    "from selenium.webdriver.common.by import By\n",
    "from selenium.webdriver.support.ui import WebDriverWait\n",
    "from selenium.webdriver.support import expected_conditions as EC\n",
    "from selenium.webdriver.common.keys import Keys\n",
    "import json\n",
    "from datetime import datetime, timedelta\n",
    "import os\n",
    "chromedriver = \"../newsletter_scraper/chromedriver\"\n",
    "os.environ[\"webdriver.chrome.driver\"] = chromedriver\n",
    "import pyperclip\n",
    "from selenium.webdriver.common.by import By\n",
    "from selenium.webdriver.support.ui import WebDriverWait\n",
    "from selenium.webdriver.support import expected_conditions as EC\n",
    "import time\n",
    "import pytest_timeout"
   ],
   "outputs": [],
   "metadata": {}
  },
  {
   "cell_type": "code",
   "execution_count": 9,
   "source": [
    "class News: \n",
    "    def __init__(self, title, link): \n",
    "        self.title = title \n",
    "        self.link = link"
   ],
   "outputs": [],
   "metadata": {}
  },
  {
   "cell_type": "code",
   "execution_count": 16,
   "source": [
    "def get_ttnews():\n",
    "    url = 'https://www.ttnews.com/articles'\n",
    "    page = requests.get(url)\n",
    "    soup = BeautifulSoup(page.content, \"html.parser\")\n",
    "\n",
    "    news = []\n",
    "    \n",
    "    articles = soup.find_all(class_='views-row')\n",
    "    # print(articles)\n",
    "    for article in articles:\n",
    "        # print(article)\n",
    "        title = article.find('a')\n",
    "        # print(title)\n",
    "        news.append(News(title.get_text(), title.get('href')))\n",
    "\n",
    "    return news"
   ],
   "outputs": [],
   "metadata": {}
  },
  {
   "cell_type": "code",
   "execution_count": 19,
   "source": [
    "news_list = get_ttnews()\n",
    "\n",
    "for obj in news_list:\n",
    "    print( obj.title, obj.link, sep ='; ' )"
   ],
   "outputs": [
    {
     "output_type": "stream",
     "name": "stdout",
     "text": [
      "New EV Charger Can Provide 62 Miles of Range in 3 Minutes; /articles/new-ev-charger-can-provide-62-miles-range-3-minutes\n",
      "Car Sales Drop as Chip Shortages Stymie Buyers; /articles/car-sales-drop-chip-shortages-stymie-buyers\n",
      "Capitol Cliffhanger: Federal Funding, Infrastructure Bill Decisions Due; /articles/progress-budget-talks-will-deal-beat-deadline\n",
      "What Q4 and Beyond Have in Store for Transportation; /articles/what-q4-and-beyond-have-store-transportation\n",
      "Soldiers Will Haul Fuel to Ease UK Crisis; /articles/soldiers-will-haul-fuel-ease-uk-crisis\n",
      "Navistar Launches Redesigned International MV Series ; /articles/navistar-launches-diesel-version-latest-international-mv-series\n",
      "Negative Jury Attitudes Can Contribute to Nuclear Verdicts ; /articles/negative-jury-attitudes-can-contribute-nuclear-verdicts\n",
      "Walmart Stokes Hiring Rush With Plan to Add 150,000 Jobs; /articles/walmart-stokes-hiring-rush-plan-add-150000-jobs\n",
      "Electric Vans Roll Off Line That Once Made Gas-Guzzling Hummers; /articles/electric-vans-roll-line-once-made-gas-guzzling-hummers\n",
      "Loadsmart, Home Depot Launch Supply-Led Platform for Flatbed; /articles/loadsmart-home-depot-launch-supply-led-platform-flatbed\n",
      "Silicon Valley Answer to the EV Question Calls for Less Silicon; /articles/silicon-valley-answer-ev-question-calls-less-silicon\n",
      "Inflation Is Seen Pushing Online Holiday Sales to $1.2 Trillion; /articles/inflation-seen-pushing-online-holiday-sales-12-trillion\n",
      "Big Pressure on Biden, Dems to Trim $3.5T Federal Overhaul; /articles/big-pressure-biden-dems-trim-35t-federal-overhaul\n",
      "Lucid to Deliver 520-Mile Electric Sedan in October; /articles/lucid-deliver-520-mile-electric-sedan-october-0\n",
      "Yellen Warns Delay in Raising Debt Limit Will Slow Economy; /articles/yellen-warns-delay-raising-debt-limit-will-slow-economy\n",
      "GM Debuts Midsize Electric Delivery Van; /articles/gm-debuts-midsize-electric-delivery-van\n",
      "Why and How the UK Is Experiencing a Fuel Crisis; /articles/why-and-how-uk-experiencing-fuel-crisis\n",
      "Colorado’s Central 70 Project Receives Federal Boost; /articles/colorados-central-70-project-receives-fed-boost\n",
      "Raimondo Says CEOs More Reasonable on Taxes Than Lobbyists; /articles/raimondo-says-ceos-more-reasonable-taxes-lobbyists\n",
      "Total Sees Oil Demand Peaking Before 2030 in Power Switch; /articles/total-sees-oil-demand-peaking-2030-power-switch\n",
      "Loadsmart, Home Depot Launch Platform for Flatbed; /articles/loadsmart-home-depot-launch-supply-led-platform-flatbed\n",
      "Big Pressure on Biden, Dems to Trim $3.5T Federal Overhaul; /articles/big-pressure-biden-dems-trim-35t-federal-overhaul\n",
      "Missouri Lawmakers Pass Fuel Tax Hike With Refund Option; /articles/missouri-lawmakers-pass-fuel-tax-hike-refund-option\n",
      "USPS Mail, Small Package Delivery May Take Longer as of Oct. 1; /articles/usps-mail-small-package-delivery-may-take-longer-oct-1\n",
      "Lucid to Deliver 520-Mile Electric Sedan in October; /articles/lucid-deliver-520-mile-electric-sedan-october-0\n"
     ]
    }
   ],
   "metadata": {}
  }
 ],
 "metadata": {
  "orig_nbformat": 4,
  "language_info": {
   "name": "python",
   "version": "3.6.9",
   "mimetype": "text/x-python",
   "codemirror_mode": {
    "name": "ipython",
    "version": 3
   },
   "pygments_lexer": "ipython3",
   "nbconvert_exporter": "python",
   "file_extension": ".py"
  },
  "kernelspec": {
   "name": "python3",
   "display_name": "Python 3.6.9 64-bit"
  },
  "interpreter": {
   "hash": "31f2aee4e71d21fbe5cf8b01ff0e069b9275f58929596ceb00d14d90e3e16cd6"
  }
 },
 "nbformat": 4,
 "nbformat_minor": 2
}